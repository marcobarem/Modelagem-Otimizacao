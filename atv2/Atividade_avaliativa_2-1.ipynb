{
  "cells": [
    {
      "cell_type": "markdown",
      "metadata": {
        "id": "ZD5A-S1LDv_P"
      },
      "source": [
        "## Atividade avaliativa 2\n",
        "\n",
        "**Essa atividade será composta pela criação de diversas funções. Não é permitido utilizar bibliotecas prontas para essa atividade**.\n",
        "\n",
        "**Data de entrega: 28/04**\n",
        "\n"
      ]
    },
    {
      "cell_type": "markdown",
      "metadata": {
        "id": "JIiF9VJOEMeZ"
      },
      "source": [
        "#### Exercício 1\n",
        " Faça uma função, chamada matrix(lin, col),  que recebe o número de linhas e o número de colunas e retorna uma matriz em Python."
      ]
    },
    {
      "cell_type": "code",
      "execution_count": 1,
      "metadata": {
        "id": "7Bf-FM4xPV_r"
      },
      "outputs": [],
      "source": [
        "def matrix(lin, col):\n",
        "    matriz = []\n",
        "    for i in range(lin):\n",
        "        linha = []\n",
        "        for j in range(col):\n",
        "            linha.append(0)\n",
        "        matriz.append(linha)\n",
        "    return matriz"
      ]
    },
    {
      "cell_type": "markdown",
      "metadata": {
        "id": "vgp9mm3NEa_c"
      },
      "source": [
        "#### Exercício 2\n",
        "\n",
        "Faça uma função, chamada mostra_matriz, que recebe uma matriz (como a do exercício anterior) e mostra essa matriz na tela."
      ]
    },
    {
      "cell_type": "code",
      "execution_count": 2,
      "metadata": {
        "id": "1tfmarjaPXL1"
      },
      "outputs": [
        {
          "name": "stdout",
          "output_type": "stream",
          "text": [
            "   0    0    0\n",
            "   0    0    0\n",
            "   0    0    0\n",
            "None\n"
          ]
        }
      ],
      "source": [
        "def mostra_matriz(matriz):\n",
        "    for linha in matriz:\n",
        "        print(\" \".join(f\"{elemento:4}\" for elemento in linha))\n",
        "\n",
        "print(mostra_matriz(matrix(3, 3)))"
      ]
    },
    {
      "cell_type": "markdown",
      "metadata": {
        "id": "bXq-HtWgEMbp"
      },
      "source": [
        "#### Exercício 3\n",
        "Faça uma função que receba uma matriz quadrada e calcula o determinante dessa matriz."
      ]
    },
    {
      "cell_type": "code",
      "execution_count": 5,
      "metadata": {
        "id": "kAeAxtMjLNSE"
      },
      "outputs": [
        {
          "name": "stdout",
          "output_type": "stream",
          "text": [
            "Determinante da matriz 2x2: 13\n",
            "Determinante da matriz 3x3: 0\n",
            "Determinante da matriz 4x4: 0\n"
          ]
        }
      ],
      "source": [
        "def determinante(matriz):\n",
        "    # Verificar se é uma matriz quadrada\n",
        "    n = len(matriz)\n",
        "    for linha in matriz:\n",
        "        if len(linha) != n:\n",
        "            raise ValueError(\"A matriz precisa ser quadrada\")\n",
        "    \n",
        "    # Caso base: matriz 1x1\n",
        "    if n == 1:\n",
        "        return matriz[0][0]\n",
        "    \n",
        "    # Caso base: matriz 2x2\n",
        "    if n == 2:\n",
        "        return matriz[0][0] * matriz[1][1] - matriz[0][1] * matriz[1][0]\n",
        "    \n",
        "    # Caso geral: expansão pelos cofatores da primeira linha\n",
        "    det = 0\n",
        "    for j in range(n):\n",
        "        # Criar a submatriz excluindo a primeira linha e coluna j\n",
        "        submatriz = []\n",
        "        for i in range(1, n):\n",
        "            linha = []\n",
        "            for k in range(n):\n",
        "                if k != j:\n",
        "                    linha.append(matriz[i][k])\n",
        "            submatriz.append(linha)\n",
        "        \n",
        "        # Somar o cofator com o sinal apropriado: (-1)^(1+j)\n",
        "        sinal = (-1) ** j\n",
        "        det += sinal * matriz[0][j] * determinante(submatriz)\n",
        "    \n",
        "    return det\n",
        "\n",
        "# Exemplo de uso:\n",
        "matriz_2x2 = [[3, 1], [2, 5]]\n",
        "print(f\"Determinante da matriz 2x2: {determinante(matriz_2x2)}\")  \n",
        "\n",
        "matriz_3x3 = [[1, 2, 3], [4, 5, 6], [7, 8, 9]]\n",
        "print(f\"Determinante da matriz 3x3: {determinante(matriz_3x3)}\")  \n",
        "\n",
        "matriz_4x4 = [[1, 2, 3, 4], [5, 6, 7, 8], [9, 10, 11, 12], [13, 14, 15, 16]]\n",
        "print(f\"Determinante da matriz 4x4: {determinante(matriz_4x4)}\")  "
      ]
    },
    {
      "cell_type": "markdown",
      "metadata": {
        "id": "M_pWx4jOFUKN"
      },
      "source": [
        "#### Exercício 4\n",
        "Faça uma função que receba uma matriz e estenda essa matriz para conter a matriz identidade ao lado dela\n",
        "\n",
        "Exemplo:  \n",
        "entrada: A = [[1, 2], [3, 4]]  \n",
        "saída: B = [[1, 2, 1, 0], [3, 4, 0, 1]]  \n",
        ".  \n",
        "entrada: A = [[1, 2], [3, 4], [5, 6]]    \n",
        "saída: B = [[1, 2, 1, 0, 0], [3, 4, 0, 1, 0], [5, 6, 0, 0, 1]]  \n",
        ".  \n",
        "\n",
        "entrada: A =  [[1, 2, 3], [4, 5, 6], [7, 8, 9]]  \n",
        "saída: B = [[1, 2, 3, 1, 0, 0], [4, 5, 6, 0, 1, 0], [7, 8, 9, 0, 0, 1]]\n"
      ]
    },
    {
      "cell_type": "code",
      "execution_count": 6,
      "metadata": {
        "id": "P7KyfCXFPZ0X"
      },
      "outputs": [
        {
          "name": "stdout",
          "output_type": "stream",
          "text": [
            "Exemplo 1:\n",
            "   1    2    1    0\n",
            "   3    4    0    1\n",
            "\n",
            "Exemplo 2:\n",
            "   1    2    1    0    0\n",
            "   3    4    0    1    0\n",
            "   5    6    0    0    1\n",
            "\n",
            "Exemplo 3:\n",
            "   1    2    3    1    0    0\n",
            "   4    5    6    0    1    0\n",
            "   7    8    9    0    0    1\n"
          ]
        }
      ],
      "source": [
        "def estende_matriz_identidade(matriz):\n",
        "    # Obtém o número de linhas e colunas da matriz original\n",
        "    linhas = len(matriz)\n",
        "    colunas = len(matriz[0]) if linhas > 0 else 0\n",
        "    \n",
        "    # Cria uma nova matriz estendida\n",
        "    matriz_estendida = []\n",
        "    \n",
        "    for i in range(linhas):\n",
        "        # Começa com a linha original da matriz\n",
        "        nova_linha = matriz[i].copy()\n",
        "        \n",
        "        # Adiciona a parte da matriz identidade\n",
        "        for j in range(linhas):\n",
        "            # Adiciona 1 na diagonal, 0 nas outras posições\n",
        "            if i == j:\n",
        "                nova_linha.append(1)\n",
        "            else:\n",
        "                nova_linha.append(0)\n",
        "                \n",
        "        matriz_estendida.append(nova_linha)\n",
        "    \n",
        "    return matriz_estendida\n",
        "\n",
        "# Exemplos de uso:\n",
        "A1 = [[1, 2], [3, 4]]\n",
        "B1 = estende_matriz_identidade(A1)\n",
        "print(\"Exemplo 1:\")\n",
        "mostra_matriz(B1)\n",
        "\n",
        "\n",
        "print(\"\\nExemplo 2:\")\n",
        "A2 = [[1, 2], [3, 4], [5, 6]]\n",
        "B2 = estende_matriz_identidade(A2)\n",
        "mostra_matriz(B2)\n",
        "\n",
        "\n",
        "print(\"\\nExemplo 3:\")\n",
        "A3 = [[1, 2, 3], [4, 5, 6], [7, 8, 9]]\n",
        "B3 = estende_matriz_identidade(A3)\n",
        "mostra_matriz(B3)\n"
      ]
    },
    {
      "cell_type": "markdown",
      "metadata": {
        "id": "zPJ3LDqfFVBL"
      },
      "source": [
        "#### Exercício 5\n",
        "Faça um programa que recebe uma matriz de ordem n x m - como a do exercício anterior - e uma lista n números de 0 a m-1, onde n é o número de linhas da matriz de entrada e m a quantidade de colunas dessa matriz, e retorna uma matriz quadrada de ordem n com as colunas indicadas nessa lista.  \n",
        "\n",
        "Exemplo:\n",
        "Matriz de entrada: A = [[1, 2, 1, 0, 0], [3, 4, 0, 1, 0], [5, 6, 0, 0, 1]]  \n",
        "Lista de entrada: v = [1, 0, 3]  \n",
        "Saída esperada: B = [[2, 4, 6], [1, 3, 5], [0, 1, 0]]   \n",
        "\n",
        ".  \n",
        "Observação: a ordem da lista de entrada é importante.\n"
      ]
    },
    {
      "cell_type": "code",
      "execution_count": 10,
      "metadata": {
        "id": "wk5Cr8Q-Payt"
      },
      "outputs": [
        {
          "name": "stdout",
          "output_type": "stream",
          "text": [
            "Matriz original:\n",
            "   1    2    1    0    0\n",
            "   3    4    0    1    0\n",
            "   5    6    0    0    1\n",
            "\n",
            "Lista de índices: [1, 0, 3]\n",
            "\n",
            "Matriz resultante:\n",
            "   2    4    6\n",
            "   1    3    5\n",
            "   0    1    0\n"
          ]
        }
      ],
      "source": [
        "def seleciona_colunas(matriz, lista_indices):\n",
        "    # Obtém o número de linhas da matriz\n",
        "    num_linhas = len(matriz)\n",
        "    \n",
        "    # Verifica se a lista de índices tem o tamanho correto\n",
        "    if len(lista_indices) != num_linhas:\n",
        "        raise ValueError(\"A lista de índices deve ter o mesmo tamanho que o número de linhas da matriz\")\n",
        "    \n",
        "    # Inicializa a matriz resultado\n",
        "    resultado = []\n",
        "    \n",
        "    # Para cada índice de coluna na lista\n",
        "    for j in range(num_linhas):\n",
        "        coluna_atual = lista_indices[j]\n",
        "        \n",
        "        # Cria uma nova coluna no resultado\n",
        "        nova_coluna = []\n",
        "        \n",
        "        # Extrai a coluna especificada da matriz original\n",
        "        for i in range(num_linhas):\n",
        "            nova_coluna.append(matriz[i][coluna_atual])\n",
        "        \n",
        "        # Adiciona a coluna ao resultado (como uma linha)\n",
        "        resultado.append(nova_coluna)\n",
        "    \n",
        "    return resultado\n",
        "\n",
        "# Exemplo de uso:\n",
        "A = [[1, 2, 1, 0, 0], [3, 4, 0, 1, 0], [5, 6, 0, 0, 1]]\n",
        "v = [1, 0, 3]\n",
        "B = seleciona_colunas(A, v)\n",
        "print(\"Matriz original:\")\n",
        "mostra_matriz(A)\n",
        "print(\"\\nLista de índices:\", v)\n",
        "print(\"\\nMatriz resultante:\")\n",
        "mostra_matriz(B)\n"
      ]
    },
    {
      "cell_type": "markdown",
      "metadata": {
        "id": "nveTVTYqEMYL"
      },
      "source": [
        "#### Exercício 6\n",
        "\n",
        "Faça uma função que recebe duas matrizes e retorna uma matriz contendo o produto dessas duas matrizes de entrada."
      ]
    },
    {
      "cell_type": "code",
      "execution_count": 11,
      "metadata": {
        "id": "wTRGx1tBPbhx"
      },
      "outputs": [
        {
          "name": "stdout",
          "output_type": "stream",
          "text": [
            "Matriz A:\n",
            "   1    2\n",
            "   3    4\n",
            "\n",
            "Matriz B:\n",
            "   5    6\n",
            "   7    8\n",
            "\n",
            "Produto A x B:\n",
            "  19   22\n",
            "  43   50\n",
            "\n",
            "Matriz D (2x3):\n",
            "   1    2    3\n",
            "   4    5    6\n",
            "\n",
            "Matriz E (3x2):\n",
            "   7    8\n",
            "   9   10\n",
            "  11   12\n",
            "\n",
            "Produto D x E (2x2):\n",
            "  58   64\n",
            " 139  154\n"
          ]
        }
      ],
      "source": [
        "def produto_matrizes(matriz_a, matriz_b):\n",
        "  \n",
        "    # Obtém as dimensões das matrizes\n",
        "    linhas_a = len(matriz_a)\n",
        "    colunas_a = len(matriz_a[0]) if linhas_a > 0 else 0\n",
        "    \n",
        "    linhas_b = len(matriz_b)\n",
        "    colunas_b = len(matriz_b[0]) if linhas_b > 0 else 0\n",
        "    \n",
        "    # Verifica se as matrizes podem ser multiplicadas\n",
        "    if colunas_a != linhas_b:\n",
        "        raise ValueError(f\"Não é possível multiplicar: Matriz A ({linhas_a}x{colunas_a}) e Matriz B ({linhas_b}x{colunas_b})\")\n",
        "    \n",
        "    # Inicializa a matriz resultado com zeros\n",
        "    resultado = []\n",
        "    for i in range(linhas_a):\n",
        "        resultado.append([0] * colunas_b)\n",
        "    \n",
        "    # Realiza a multiplicação das matrizes\n",
        "    for i in range(linhas_a):\n",
        "        for j in range(colunas_b):\n",
        "            soma = 0\n",
        "            for k in range(colunas_a):  # ou range(linhas_b)\n",
        "                soma += matriz_a[i][k] * matriz_b[k][j]\n",
        "            resultado[i][j] = soma\n",
        "    \n",
        "    return resultado\n",
        "\n",
        "# Exemplos de uso:\n",
        "A = [[1, 2], [3, 4]]\n",
        "B = [[5, 6], [7, 8]]\n",
        "C = produto_matrizes(A, B)\n",
        "\n",
        "print(\"Matriz A:\")\n",
        "mostra_matriz(A)\n",
        "print(\"\\nMatriz B:\")\n",
        "mostra_matriz(B)\n",
        "print(\"\\nProduto A x B:\")\n",
        "mostra_matriz(C)\n",
        "# Saída esperada: [[19, 22], [43, 50]]\n",
        "\n",
        "# Outro exemplo com matrizes de dimensões diferentes\n",
        "D = [[1, 2, 3], [4, 5, 6]]  # Matriz 2x3\n",
        "E = [[7, 8], [9, 10], [11, 12]]  # Matriz 3x2\n",
        "F = produto_matrizes(D, E)\n",
        "\n",
        "print(\"\\nMatriz D (2x3):\")\n",
        "mostra_matriz(D)\n",
        "print(\"\\nMatriz E (3x2):\")\n",
        "mostra_matriz(E)\n",
        "print(\"\\nProduto D x E (2x2):\")\n",
        "mostra_matriz(F)\n"
      ]
    },
    {
      "cell_type": "markdown",
      "metadata": {
        "id": "HHyMFkXqM9iv"
      },
      "source": [
        "#### Exercício 7\n",
        "Faça um programa que recebe uma matriz quadrada e retorna, se existir, a inversa dessa matriz. Caso não exista a inversa, o programa deverá avisar isso ao usuário.\n",
        "\n",
        "Sugestão (opcional): faça a inversa utilizando a matriz adjunta."
      ]
    },
    {
      "cell_type": "code",
      "execution_count": 12,
      "metadata": {
        "id": "cvkFj7wqEMC5"
      },
      "outputs": [
        {
          "name": "stdout",
          "output_type": "stream",
          "text": [
            "Exemplo 1: Matriz inversível\n",
            "Matriz A1:\n",
            "   4    7\n",
            "   2    6\n",
            "\n",
            "Inversa de A1:\n",
            "0.6000000000000001 -0.7000000000000001\n",
            "-0.2  0.4\n",
            "\n",
            "Verificação (A1 * A1_inv):\n",
            "1.0000000000000002  0.0\n",
            " 0.0 1.0000000000000002\n",
            "\n",
            "Exemplo 2: Matriz não inversível\n",
            "Matriz A2:\n",
            "   1    2    3\n",
            "   4    5    6\n",
            "   7    8    9\n",
            "\n",
            "A matriz A2 não possui inversa.\n"
          ]
        }
      ],
      "source": [
        "def matriz_inversa(matriz):\n",
        "    # Verificar se a matriz é quadrada\n",
        "    n = len(matriz)\n",
        "    for linha in matriz:\n",
        "        if len(linha) != n:\n",
        "            raise ValueError(\"A matriz precisa ser quadrada\")\n",
        "    \n",
        "    # Verificar se o determinante é diferente de zero\n",
        "    det = determinante(matriz)\n",
        "    if abs(det) < 1e-10:  # Usa tolerância para erros de ponto flutuante\n",
        "        return None  # Matriz singular, não tem inversa\n",
        "    \n",
        "    # Criar a matriz aumentada [A|I]\n",
        "    matriz_aumentada = []\n",
        "    for i in range(n):\n",
        "        linha_aumentada = matriz[i].copy()\n",
        "        # Adicionar a parte da matriz identidade\n",
        "        for j in range(n):\n",
        "            if i == j:\n",
        "                linha_aumentada.append(1)\n",
        "            else:\n",
        "                linha_aumentada.append(0)\n",
        "        matriz_aumentada.append(linha_aumentada)\n",
        "    \n",
        "    # Aplicar o método de eliminação de Gauss-Jordan\n",
        "    for i in range(n):\n",
        "        # Encontrar o pivô na coluna i\n",
        "        pivo = matriz_aumentada[i][i]\n",
        "        \n",
        "        # Se o pivô for zero, trocar com uma linha abaixo\n",
        "        if abs(pivo) < 1e-10:\n",
        "            for k in range(i+1, n):\n",
        "                if abs(matriz_aumentada[k][i]) > 1e-10:\n",
        "                    # Trocar as linhas i e k\n",
        "                    matriz_aumentada[i], matriz_aumentada[k] = matriz_aumentada[k], matriz_aumentada[i]\n",
        "                    pivo = matriz_aumentada[i][i]\n",
        "                    break\n",
        "            else:\n",
        "                # Se não encontrarmos uma linha não-zero, a matriz é singular\n",
        "                return None\n",
        "        \n",
        "        # Normalizar a linha do pivô\n",
        "        for j in range(i, 2*n):\n",
        "            matriz_aumentada[i][j] /= pivo\n",
        "        \n",
        "        # Eliminar os elementos acima e abaixo do pivô\n",
        "        for k in range(n):\n",
        "            if k != i:\n",
        "                fator = matriz_aumentada[k][i]\n",
        "                for j in range(i, 2*n):\n",
        "                    matriz_aumentada[k][j] -= fator * matriz_aumentada[i][j]\n",
        "    \n",
        "    # Extrair a matriz inversa (parte direita da matriz aumentada)\n",
        "    inversa = []\n",
        "    for i in range(n):\n",
        "        inversa.append(matriz_aumentada[i][n:2*n])\n",
        "    \n",
        "    return inversa\n",
        "\n",
        "# Exemplos de uso:\n",
        "print(\"Exemplo 1: Matriz inversível\")\n",
        "A1 = [[4, 7], [2, 6]]\n",
        "print(\"Matriz A1:\")\n",
        "mostra_matriz(A1)\n",
        "A1_inv = matriz_inversa(A1)\n",
        "if A1_inv is not None:\n",
        "    print(\"\\nInversa de A1:\")\n",
        "    mostra_matriz(A1_inv)\n",
        "    \n",
        "    # Verificação: A * A^(-1) deve ser a matriz identidade\n",
        "    print(\"\\nVerificação (A1 * A1_inv):\")\n",
        "    verif = produto_matrizes(A1, A1_inv)\n",
        "    mostra_matriz(verif)\n",
        "else:\n",
        "    print(\"\\nA matriz A1 não possui inversa.\")\n",
        "\n",
        "print(\"\\nExemplo 2: Matriz não inversível\")\n",
        "A2 = [[1, 2, 3], [4, 5, 6], [7, 8, 9]]\n",
        "print(\"Matriz A2:\")\n",
        "mostra_matriz(A2)\n",
        "A2_inv = matriz_inversa(A2)\n",
        "if A2_inv is not None:\n",
        "    print(\"\\nInversa de A2:\")\n",
        "    mostra_matriz(A2_inv)\n",
        "else:\n",
        "    print(\"\\nA matriz A2 não possui inversa.\")"
      ]
    },
    {
      "cell_type": "markdown",
      "metadata": {
        "id": "gCLdQuOiPjDS"
      },
      "source": [
        "#### Exercício 8\n",
        "Faça um programa que recebe uma matriz quadrada de ordem n (matriz dos coeficientes de um sistema linear) e um vetor de n elementos (os termos independentes em um sistema linear) e resolva esse sistema linear utilizando matriz inversa."
      ]
    },
    {
      "cell_type": "code",
      "execution_count": 14,
      "metadata": {
        "id": "jiU4mRO9EL_H"
      },
      "outputs": [
        {
          "name": "stdout",
          "output_type": "stream",
          "text": [
            "Exemplo 1: Sistema com solução única\n",
            "Matriz de coeficientes A1:\n",
            "   2    1\n",
            "   1    3\n",
            "\n",
            "Vetor de termos b1: [5, 10]\n",
            "\n",
            "Solução x1: [1.0, 3.0]\n",
            "\n",
            "Verificação (A1 * x1):\n",
            "[5.0, 10.0]\n",
            "\n",
            "Exemplo 2: Sistema sem solução única\n",
            "Matriz de coeficientes A2:\n",
            "   1    2    3\n",
            "   2    4    6\n",
            "   3    6    9\n",
            "\n",
            "Vetor de termos b2: [6, 12, 18]\n",
            "\n",
            "O sistema não tem solução única.\n"
          ]
        }
      ],
      "source": [
        "def resolve_sistema_linear(matriz_coeficientes, vetor_termos):\n",
        "    # Verificar se a matriz é quadrada\n",
        "    n = len(matriz_coeficientes)\n",
        "    for linha in matriz_coeficientes:\n",
        "        if len(linha) != n:\n",
        "            raise ValueError(\"A matriz de coeficientes precisa ser quadrada\")\n",
        "    \n",
        "    # Verificar se o vetor de termos tem o tamanho correto\n",
        "    if len(vetor_termos) != n:\n",
        "        raise ValueError(\"O vetor de termos deve ter o mesmo tamanho que a ordem da matriz\")\n",
        "    \n",
        "    # Calcular a inversa da matriz de coeficientes\n",
        "    matriz_inversa_A = matriz_inversa(matriz_coeficientes)\n",
        "    \n",
        "    # Verificar se a matriz tem inversa\n",
        "    if matriz_inversa_A is None:\n",
        "        return None  # Sistema sem solução única (infinitas soluções ou sem solução)\n",
        "    \n",
        "    # A solução é x = A^(-1) * b\n",
        "    # Transformar o vetor de termos em uma matriz coluna\n",
        "    matriz_b = [[vetor_termos[i]] for i in range(n)]\n",
        "    \n",
        "    # Calcular o produto A^(-1) * b\n",
        "    matriz_x = produto_matrizes(matriz_inversa_A, matriz_b)\n",
        "    \n",
        "    # Extrair a solução da matriz coluna para um vetor\n",
        "    solucao = [matriz_x[i][0] for i in range(n)]\n",
        "    \n",
        "    return solucao\n",
        "\n",
        "# Exemplos de uso:\n",
        "print(\"Exemplo 1: Sistema com solução única\")\n",
        "# Sistema:\n",
        "# 2x + y = 5\n",
        "# x + 3y = 10\n",
        "A1 = [[2, 1], [1, 3]]\n",
        "b1 = [5, 10]\n",
        "\n",
        "print(\"Matriz de coeficientes A1:\")\n",
        "mostra_matriz(A1)\n",
        "print(\"\\nVetor de termos b1:\", b1)\n",
        "\n",
        "solucao1 = resolve_sistema_linear(A1, b1)\n",
        "if solucao1 is not None:\n",
        "    print(\"\\nSolução x1:\", solucao1)\n",
        "    \n",
        "    # Verificação: A1 * x1 = b1\n",
        "    print(\"\\nVerificação (A1 * x1):\")\n",
        "    A1x1 = [sum(A1[i][j] * solucao1[j] for j in range(len(solucao1))) for i in range(len(A1))]\n",
        "    print(A1x1)\n",
        "else:\n",
        "    print(\"\\nO sistema não tem solução única.\")\n",
        "\n",
        "print(\"\\nExemplo 2: Sistema sem solução única\")\n",
        "# Sistema:\n",
        "# x + 2y + 3z = 6\n",
        "# 2x + 4y + 6z = 12\n",
        "# 3x + 6y + 9z = 18\n",
        "# (linhas linearmente dependentes)\n",
        "A2 = [[1, 2, 3], [2, 4, 6], [3, 6, 9]]\n",
        "b2 = [6, 12, 18]\n",
        "\n",
        "print(\"Matriz de coeficientes A2:\")\n",
        "mostra_matriz(A2)\n",
        "print(\"\\nVetor de termos b2:\", b2)\n",
        "\n",
        "solucao2 = resolve_sistema_linear(A2, b2)\n",
        "if solucao2 is not None:\n",
        "    print(\"\\nSolução x2:\", solucao2)\n",
        "else:\n",
        "    print(\"\\nO sistema não tem solução única.\")"
      ]
    },
    {
      "cell_type": "code",
      "execution_count": null,
      "metadata": {
        "id": "Wz1QQf0fELpk"
      },
      "outputs": [],
      "source": []
    },
    {
      "cell_type": "code",
      "execution_count": null,
      "metadata": {
        "id": "k2wY2a2tDvax"
      },
      "outputs": [],
      "source": []
    },
    {
      "cell_type": "code",
      "execution_count": null,
      "metadata": {
        "id": "_r61YJc1Dt0i"
      },
      "outputs": [],
      "source": []
    }
  ],
  "metadata": {
    "colab": {
      "provenance": []
    },
    "kernelspec": {
      "display_name": "Python 3",
      "name": "python3"
    },
    "language_info": {
      "codemirror_mode": {
        "name": "ipython",
        "version": 3
      },
      "file_extension": ".py",
      "mimetype": "text/x-python",
      "name": "python",
      "nbconvert_exporter": "python",
      "pygments_lexer": "ipython3",
      "version": "3.12.3"
    }
  },
  "nbformat": 4,
  "nbformat_minor": 0
}
