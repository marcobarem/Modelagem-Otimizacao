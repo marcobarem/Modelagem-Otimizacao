{
  "cells": [
    {
      "cell_type": "code",
      "execution_count": 1,
      "metadata": {
        "id": "RCnU6m0XA0L9"
      },
      "outputs": [],
      "source": [
        "# Importar a biblioteca re para expressões regulares\n",
        "import re"
      ]
    },
    {
      "cell_type": "markdown",
      "metadata": {
        "id": "Z6w8pOWBA366"
      },
      "source": [
        "## Atividade avaliativa 1\n",
        "\n",
        "\n",
        "**Faça um programa que receba duas strings contendo equações lineares com duas incógnitas e resolva esse sistema linear. Indique no código qual método utilizou para resolver seu sistema linear. Sugestão: utilize expressões regulares.**\n",
        "\n",
        "  \n",
        ".  \n",
        "  \n",
        "  \n",
        "\n",
        " Observações:\n",
        "  - As equações terão coeficientes inteiros.\n",
        "  - Os coeficientes poderão ser 0, positivos ou negativos\n",
        "  - Os coeficientes 1 e -1 não aparecerão explicitamente\n",
        "  - Sistemas que não têm solução única deverão mostrar essa informação ao usuário\n",
        "  - Entrega: 26/03/2025\n",
        "\n"
      ]
    },
    {
      "cell_type": "code",
      "execution_count": 2,
      "metadata": {
        "colab": {
          "base_uri": "https://localhost:8080/",
          "height": 36
        },
        "id": "t2Wh0sbKA1m9",
        "outputId": "8386313c-cb58-4475-9d33-c59d464c6dc4"
      },
      "outputs": [
        {
          "data": {
            "text/plain": [
              "'-2x - 5y  =-1'"
            ]
          },
          "execution_count": 2,
          "metadata": {},
          "output_type": "execute_result"
        }
      ],
      "source": [
        "# Exemplo de equações lineares que podem ser utilizadas (o seu programa vai receber duas delas)\n",
        "'x - 2y = 8'\n",
        "'-x + 5y = 80'\n",
        "'2x = 9'\n",
        "'4y = 12'\n",
        "'-2x - 5y  =-1'"
      ]
    },
    {
      "cell_type": "code",
      "execution_count": 3,
      "metadata": {
        "id": "vg_h7wNvA1i_"
      },
      "outputs": [],
      "source": [
        "def parse_equation(equation):\n",
        "    equation = equation.replace(' ', '')  # Remove espaços\n",
        "    parts = equation.split('=')\n",
        "    if len(parts) != 2:\n",
        "        raise ValueError(\"Equação inválida: formato incorreto.\")\n",
        "    lhs, rhs = parts\n",
        "\n",
        "    # Inicializa coeficientes\n",
        "    a_x, a_y = 0, 0\n",
        "\n",
        "    # Busca termos com x ou y\n",
        "    terms = re.findall(r'([+-]?[\\d]*[xy])', lhs)\n",
        "    for term in terms:\n",
        "        if term[-1] not in ('x', 'y'):\n",
        "            raise ValueError(f\"Termo inválido: {term}\")\n",
        "        var = term[-1]\n",
        "        coeff = term[:-1] if term[:-1] else None\n",
        "\n",
        "        # Processa coeficiente\n",
        "        if coeff in (None, '+'):\n",
        "            coeff_val = 1\n",
        "        elif coeff == '-':\n",
        "            coeff_val = -1\n",
        "        else:\n",
        "            coeff_val = int(coeff)\n",
        "\n",
        "        if var == 'x':\n",
        "            a_x += coeff_val\n",
        "        else:\n",
        "            a_y += coeff_val\n",
        "\n",
        "    # Processa o lado direito\n",
        "    try:\n",
        "        rhs_val = int(rhs)\n",
        "    except ValueError:\n",
        "        raise ValueError(f\"RHS inválido: {rhs}\")\n",
        "\n",
        "    return a_x, a_y, rhs_val\n"
      ]
    },
    {
      "cell_type": "code",
      "execution_count": 4,
      "metadata": {
        "id": "OyOeMIzIA1e-"
      },
      "outputs": [],
      "source": [
        "def solve_linear_system(eq1, eq2):\n",
        "    try:\n",
        "        a1, b1, c1 = parse_equation(eq1)\n",
        "        a2, b2, c2 = parse_equation(eq2)\n",
        "    except ValueError as e:\n",
        "        return f\"Erro: {e}\"\n",
        "\n",
        "    # Monta a matriz aumentada\n",
        "    matrix = [\n",
        "        [a1, b1, c1],\n",
        "        [a2, b2, c2]\n",
        "    ]\n",
        "\n",
        "    # Passo 1: Verifica e troca linhas se necessário\n",
        "    if matrix[0][0] == 0:\n",
        "        if matrix[1][0] != 0:\n",
        "            # Troca as linhas\n",
        "            matrix[0], matrix[1] = matrix[1], matrix[0]\n",
        "        else:\n",
        "            # Ambas linhas têm coeficiente x = 0\n",
        "            if matrix[0][1] == 0 and matrix[1][1] == 0:\n",
        "                if matrix[0][2] != matrix[1][2]:\n",
        "                    return \"O sistema não tem solução única.\"\n",
        "                else:\n",
        "                    return \"O sistema não tem solução única (infinitas soluções).\"\n",
        "            else:\n",
        "                # Verifica se há solução para y\n",
        "                if matrix[0][1] == 0:\n",
        "                    if matrix[0][2] != 0:\n",
        "                        return \"O sistema não tem solução única.\"\n",
        "                    else:\n",
        "                        y = matrix[1][2] / matrix[1][1]\n",
        "                        return f\"O sistema não tem solução única (x pode ser qualquer valor, y = {y}).\"\n",
        "                elif matrix[1][1] == 0:\n",
        "                    if matrix[1][2] != 0:\n",
        "                        return \"O sistema não tem solução única.\"\n",
        "                    else:\n",
        "                        y = matrix[0][2] / matrix[0][1]\n",
        "                        return f\"O sistema não tem solução única (x pode ser qualquer valor, y = {y}).\"\n",
        "                else:\n",
        "                    # Verifica consistência entre as equações em y\n",
        "                    y1 = matrix[0][2] / matrix[0][1]\n",
        "                    y2 = matrix[1][2] / matrix[1][1]\n",
        "                    if y1 != y2:\n",
        "                        return \"O sistema não tem solução única.\"\n",
        "                    else:\n",
        "                        return f\"O sistema não tem solução única (x pode ser qualquer valor, y = {y1}).\"\n",
        "\n",
        "    # Passo 2: Eliminação de Gauss\n",
        "    a1, b1, c1 = matrix[0]\n",
        "    a2, b2, c2 = matrix[1]\n",
        "\n",
        "    # Calcula o fator para eliminar x da segunda linha\n",
        "    fator = a2 / a1\n",
        "    nova_linha2 = [\n",
        "        a2 - fator * a1,          # Coeficiente de x (deve ser 0)\n",
        "        b2 - fator * b1,          # Coeficiente de y\n",
        "        c2 - fator * c1           # Termo constante\n",
        "    ]\n",
        "\n",
        "    # Atualiza a matriz\n",
        "    matrix[1] = nova_linha2\n",
        "\n",
        "    # Verifica se o sistema é impossível ou indeterminado\n",
        "    if matrix[1][0] == 0 and matrix[1][1] == 0:\n",
        "        if matrix[1][2] != 0:\n",
        "            return \"O sistema não tem solução única.\"\n",
        "        else:\n",
        "            return \"O sistema não tem solução única (infinitas soluções).\"\n",
        "\n",
        "    # Passo 3: Resolve por substituição reversa\n",
        "    y = matrix[1][2] / matrix[1][1]\n",
        "    x = (matrix[0][2] - matrix[0][1] * y) / matrix[0][0]\n",
        "\n",
        "    return (x, y)"
      ]
    },
    {
      "cell_type": "code",
      "execution_count": 5,
      "metadata": {},
      "outputs": [
        {
          "name": "stdout",
          "output_type": "stream",
          "text": [
            "(66.66666666666666, 29.333333333333332)\n"
          ]
        }
      ],
      "source": [
        "# Exemplo de uso\n",
        "eq1 = 'x - 2y = 8'\n",
        "eq2 = '-x + 5y = 80'\n",
        "print(solve_linear_system(eq1, eq2))  # Saída: (66.66666666666667, 29.333333333333336)"
      ]
    }
  ],
  "metadata": {
    "colab": {
      "provenance": []
    },
    "kernelspec": {
      "display_name": "Python 3",
      "name": "python3"
    },
    "language_info": {
      "codemirror_mode": {
        "name": "ipython",
        "version": 3
      },
      "file_extension": ".py",
      "mimetype": "text/x-python",
      "name": "python",
      "nbconvert_exporter": "python",
      "pygments_lexer": "ipython3",
      "version": "3.12.3"
    }
  },
  "nbformat": 4,
  "nbformat_minor": 0
}
