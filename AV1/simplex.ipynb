{
 "cells": [
  {
   "cell_type": "markdown",
   "id": "01dfd90e",
   "metadata": {},
   "source": [
    "# Implementação do Simplex"
   ]
  },
  {
   "cell_type": "markdown",
   "id": "c642f170",
   "metadata": {},
   "source": [
    "### Função `inicializar_tabela`\n",
    "Esta função cria a tabela inicial do Simplex. Ela adiciona variáveis de folga às restrições e organiza os coeficientes da função objetivo e das restrições em uma matriz. A tabela será usada como base para o algoritmo."
   ]
  },
  {
   "cell_type": "markdown",
   "id": "ef73f69f",
   "metadata": {},
   "source": [
    "## Fórmula da Função Objetivo\n",
    "\n",
    "$$\n",
    "Z = c_1x_1 + c_2x_2 + \\dots + c_nx_n\n",
    "$$"
   ]
  },
  {
   "cell_type": "code",
   "execution_count": 14,
   "id": "5219700a",
   "metadata": {},
   "outputs": [],
   "source": [
    "def inicializar_tabela(c, A, b):\n",
    "    \"\"\"\n",
    "    Inicializa a tabela do Simplex.\n",
    "    c: Coeficientes da função objetivo (lista).\n",
    "    A: Matriz de restrições (lista de listas).\n",
    "    b: Lado direito das restrições (lista).\n",
    "    Retorna a tabela inicial.\n",
    "    \"\"\"\n",
    "    # Adiciona as variáveis de folga\n",
    "    num_restricoes = len(A)\n",
    "    num_variaveis = len(c)\n",
    "    tabela = []\n",
    "\n",
    "    for i in range(num_restricoes):\n",
    "        linha = A[i] + [0] * num_restricoes + [b[i]]\n",
    "        linha[num_variaveis + i] = 1  # Variável de folga\n",
    "        tabela.append(linha)\n",
    "\n",
    "    # Adiciona a linha da função objetivo\n",
    "    linha_objetivo = c + [0] * (num_restricoes + 1)\n",
    "    tabela.append(linha_objetivo)\n",
    "\n",
    "    return tabela"
   ]
  },
  {
   "cell_type": "markdown",
   "id": "53c6aa9b",
   "metadata": {},
   "source": [
    "### Função `encontrar_coluna_pivo`\n",
    "Esta função identifica a **coluna pivô**, que corresponde à variável que entra na base. A coluna pivô é escolhida com base no coeficiente mais negativo na linha da função objetivo, indicando a variável que mais aumenta o valor da função objetivo."
   ]
  },
  {
   "cell_type": "code",
   "execution_count": 15,
   "id": "f4e589fe",
   "metadata": {},
   "outputs": [],
   "source": [
    "def encontrar_coluna_pivo(tabela):\n",
    "    \"\"\"\n",
    "    Encontra a coluna pivô (variável de entrada).\n",
    "    Retorna o índice da coluna.\n",
    "    \"\"\"\n",
    "    linha_objetivo = tabela[-1]\n",
    "    return linha_objetivo.index(min(linha_objetivo[:-1]))\n"
   ]
  },
  {
   "cell_type": "markdown",
   "id": "145afec0",
   "metadata": {},
   "source": [
    "### Função `encontrar_linha_pivo`\n",
    "Esta função identifica a **linha pivô**, que corresponde à variável que sai da base. A linha pivô é escolhida com base na menor razão entre o lado direito (`b`) e o coeficiente da coluna pivô, garantindo que a solução permaneça viável."
   ]
  },
  {
   "cell_type": "code",
   "execution_count": 16,
   "id": "7c8de05c",
   "metadata": {},
   "outputs": [],
   "source": [
    "def encontrar_linha_pivo(tabela, coluna_pivo):\n",
    "    \"\"\"\n",
    "    Encontra a linha pivô (variável de saída).\n",
    "    Retorna o índice da linha.\n",
    "    \"\"\"\n",
    "    num_linhas = len(tabela) - 1\n",
    "    menores_razões = []\n",
    "\n",
    "    for i in range(num_linhas):\n",
    "        if tabela[i][coluna_pivo] > 0:\n",
    "            razao = tabela[i][-1] / tabela[i][coluna_pivo]\n",
    "            menores_razões.append((razao, i))\n",
    "\n",
    "    if not menores_razões:\n",
    "        raise ValueError(\"Problema ilimitado.\")\n",
    "\n",
    "    _, linha_pivo = min(menores_razões)\n",
    "    return linha_pivo\n"
   ]
  },
  {
   "cell_type": "markdown",
   "id": "18b7ea69",
   "metadata": {},
   "source": [
    "### Função `realizar_pivoteamento`\n",
    "Esta função realiza o **pivoteamento**, atualizando a tabela para refletir a troca de variáveis na base. O pivoteamento normaliza a linha pivô e ajusta as outras linhas para zerar os valores na coluna pivô, exceto na linha pivô."
   ]
  },
  {
   "cell_type": "code",
   "execution_count": 17,
   "id": "ba81c0d1",
   "metadata": {},
   "outputs": [],
   "source": [
    "def realizar_pivoteamento(tabela, linha_pivo, coluna_pivo):\n",
    "    \"\"\"\n",
    "    Realiza o pivoteamento na tabela.\n",
    "    \"\"\"\n",
    "    # Normaliza a linha pivô\n",
    "    fator_pivo = tabela[linha_pivo][coluna_pivo]\n",
    "    tabela[linha_pivo] = [x / fator_pivo for x in tabela[linha_pivo]]\n",
    "\n",
    "    # Atualiza as outras linhas\n",
    "    for i in range(len(tabela)):\n",
    "        if i != linha_pivo:\n",
    "            fator = tabela[i][coluna_pivo]\n",
    "            tabela[i] = [tabela[i][j] - fator * tabela[linha_pivo][j] for j in range(len(tabela[0]))]\n"
   ]
  },
  {
   "cell_type": "markdown",
   "id": "8912f7d2",
   "metadata": {},
   "source": [
    "### Função `simplex`\n",
    "Esta é a função principal que implementa o método Simplex. Ela coordena as etapas do algoritmo:\n",
    "1. Inicializa a tabela.\n",
    "2. Identifica a coluna e a linha pivô.\n",
    "3. Realiza o pivoteamento.\n",
    "4. Calcula a solução ótima e o valor da função objetivo."
   ]
  },
  {
   "cell_type": "code",
   "execution_count": 18,
   "id": "f14d72e5",
   "metadata": {},
   "outputs": [],
   "source": [
    "def simplex(c, A, b):\n",
    "    \"\"\"\n",
    "    Resolve um problema de programação linear usando o método Simplex.\n",
    "    c: Coeficientes da função objetivo (lista).\n",
    "    A: Matriz de restrições (lista de listas).\n",
    "    b: Lado direito das restrições (lista).\n",
    "    Retorna a solução ótima e o valor da função objetivo.\n",
    "    \"\"\"\n",
    "    tabela = inicializar_tabela(c, A, b)\n",
    "\n",
    "    while any(x < 0 for x in tabela[-1][:-1]):\n",
    "        coluna_pivo = encontrar_coluna_pivo(tabela)\n",
    "        linha_pivo = encontrar_linha_pivo(tabela, coluna_pivo)\n",
    "        realizar_pivoteamento(tabela, linha_pivo, coluna_pivo)\n",
    "\n",
    "    # Solução ótima\n",
    "    num_variaveis = len(c)\n",
    "    solucao = [0] * num_variaveis\n",
    "    for i in range(len(tabela) - 1):\n",
    "        for j in range(num_variaveis):\n",
    "            if tabela[i][j] == 1 and all(tabela[k][j] == 0 for k in range(len(tabela)) if k != i):\n",
    "                solucao[j] = tabela[i][-1]\n",
    "\n",
    "    valor_otimo = tabela[-1][-1]\n",
    "    return solucao, valor_otimo\n",
    "\n"
   ]
  },
  {
   "cell_type": "markdown",
   "id": "5b10d166",
   "metadata": {},
   "source": [
    "### Resultado\n",
    "A solução ótima encontrada pelo método Simplex é:\n",
    "- `x = 2`\n",
    "- `y = 6`\n",
    "\n",
    "O valor máximo da função objetivo é `Z = 36`."
   ]
  },
  {
   "cell_type": "code",
   "execution_count": 19,
   "id": "22a6485b",
   "metadata": {},
   "outputs": [
    {
     "name": "stdout",
     "output_type": "stream",
     "text": [
      "Solução ótima: [2.0, 6.0]\n",
      "Valor ótimo: 36.0\n"
     ]
    }
   ],
   "source": [
    "# Exemplo de uso\n",
    "c = [-3, -5]  # Maximizar 3x + 5y\n",
    "A = [\n",
    "    [1, 0],\n",
    "    [0, 2],\n",
    "    [3, 2]\n",
    "]\n",
    "b = [4, 12, 18]\n",
    "\n",
    "solucao, valor_otimo = simplex(c, A, b)\n",
    "print(\"Solução ótima:\", solucao)\n",
    "print(\"Valor ótimo:\", valor_otimo)"
   ]
  }
 ],
 "metadata": {
  "kernelspec": {
   "display_name": "Python 3",
   "language": "python",
   "name": "python3"
  },
  "language_info": {
   "codemirror_mode": {
    "name": "ipython",
    "version": 3
   },
   "file_extension": ".py",
   "mimetype": "text/x-python",
   "name": "python",
   "nbconvert_exporter": "python",
   "pygments_lexer": "ipython3",
   "version": "3.12.3"
  }
 },
 "nbformat": 4,
 "nbformat_minor": 5
}
